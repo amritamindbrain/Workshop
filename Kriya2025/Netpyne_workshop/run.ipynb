{
  "nbformat": 4,
  "nbformat_minor": 0,
  "metadata": {
    "colab": {
      "provenance": []
    },
    "kernelspec": {
      "name": "python3",
      "display_name": "Python 3"
    },
    "language_info": {
      "name": "python"
    }
  },
  "cells": [
    {
      "cell_type": "code",
      "execution_count": null,
      "metadata": {
        "colab": {
          "base_uri": "https://localhost:8080/"
        },
        "id": "9jiuMQuzitOW",
        "outputId": "aa8d1c7e-18bd-486e-8dac-ed4ddd117b45"
      },
      "outputs": [
        {
          "output_type": "stream",
          "name": "stdout",
          "text": [
            "Collecting neuron\n",
            "  Downloading NEURON-8.2.6-cp311-cp311-manylinux_2_17_x86_64.manylinux2014_x86_64.whl.metadata (3.7 kB)\n",
            "Requirement already satisfied: numpy<2,>=1.9.3 in /usr/local/lib/python3.11/dist-packages (from neuron) (1.26.4)\n",
            "Requirement already satisfied: packaging in /usr/local/lib/python3.11/dist-packages (from neuron) (24.2)\n",
            "Collecting find-libpython (from neuron)\n",
            "  Downloading find_libpython-0.4.0-py3-none-any.whl.metadata (2.8 kB)\n",
            "Requirement already satisfied: setuptools in /usr/local/lib/python3.11/dist-packages (from neuron) (75.1.0)\n",
            "Downloading NEURON-8.2.6-cp311-cp311-manylinux_2_17_x86_64.manylinux2014_x86_64.whl (15.2 MB)\n",
            "\u001b[2K   \u001b[90m━━━━━━━━━━━━━━━━━━━━━━━━━━━━━━━━━━━━━━━━\u001b[0m \u001b[32m15.2/15.2 MB\u001b[0m \u001b[31m54.6 MB/s\u001b[0m eta \u001b[36m0:00:00\u001b[0m\n",
            "\u001b[?25hDownloading find_libpython-0.4.0-py3-none-any.whl (8.7 kB)\n",
            "Installing collected packages: find-libpython, neuron\n",
            "Successfully installed find-libpython-0.4.0 neuron-8.2.6\n"
          ]
        }
      ],
      "source": [
        "!pip install neuron"
      ]
    },
    {
      "cell_type": "code",
      "source": [
        "!pip install netpyne\n"
      ],
      "metadata": {
        "colab": {
          "base_uri": "https://localhost:8080/"
        },
        "id": "S1pnVbR1jDav",
        "outputId": "28e235cc-a100-4954-9cb1-d562cedc5f89"
      },
      "execution_count": null,
      "outputs": [
        {
          "output_type": "stream",
          "name": "stdout",
          "text": [
            "Collecting netpyne\n",
            "  Downloading netpyne-1.0.7-py2.py3-none-any.whl.metadata (2.8 kB)\n",
            "Requirement already satisfied: numpy in /usr/local/lib/python3.11/dist-packages (from netpyne) (1.26.4)\n",
            "Requirement already satisfied: scipy in /usr/local/lib/python3.11/dist-packages (from netpyne) (1.14.1)\n",
            "Requirement already satisfied: matplotlib in /usr/local/lib/python3.11/dist-packages (from netpyne) (3.10.0)\n",
            "Collecting matplotlib-scalebar (from netpyne)\n",
            "  Downloading matplotlib_scalebar-0.9.0-py3-none-any.whl.metadata (18 kB)\n",
            "Requirement already satisfied: future in /usr/local/lib/python3.11/dist-packages (from netpyne) (1.0.0)\n",
            "Requirement already satisfied: pandas in /usr/local/lib/python3.11/dist-packages (from netpyne) (2.2.2)\n",
            "Requirement already satisfied: bokeh in /usr/local/lib/python3.11/dist-packages (from netpyne) (3.6.3)\n",
            "Collecting schema (from netpyne)\n",
            "  Downloading schema-0.7.7-py2.py3-none-any.whl.metadata (34 kB)\n",
            "Collecting lfpykit (from netpyne)\n",
            "  Downloading LFPykit-0.5.1-py3-none-any.whl.metadata (15 kB)\n",
            "Requirement already satisfied: tqdm in /usr/local/lib/python3.11/dist-packages (from netpyne) (4.67.1)\n",
            "Requirement already satisfied: Jinja2>=2.9 in /usr/local/lib/python3.11/dist-packages (from bokeh->netpyne) (3.1.6)\n",
            "Requirement already satisfied: contourpy>=1.2 in /usr/local/lib/python3.11/dist-packages (from bokeh->netpyne) (1.3.1)\n",
            "Requirement already satisfied: packaging>=16.8 in /usr/local/lib/python3.11/dist-packages (from bokeh->netpyne) (24.2)\n",
            "Requirement already satisfied: pillow>=7.1.0 in /usr/local/lib/python3.11/dist-packages (from bokeh->netpyne) (11.1.0)\n",
            "Requirement already satisfied: PyYAML>=3.10 in /usr/local/lib/python3.11/dist-packages (from bokeh->netpyne) (6.0.2)\n",
            "Requirement already satisfied: tornado>=6.2 in /usr/local/lib/python3.11/dist-packages (from bokeh->netpyne) (6.4.2)\n",
            "Requirement already satisfied: xyzservices>=2021.09.1 in /usr/local/lib/python3.11/dist-packages (from bokeh->netpyne) (2025.1.0)\n",
            "Requirement already satisfied: python-dateutil>=2.8.2 in /usr/local/lib/python3.11/dist-packages (from pandas->netpyne) (2.8.2)\n",
            "Requirement already satisfied: pytz>=2020.1 in /usr/local/lib/python3.11/dist-packages (from pandas->netpyne) (2025.1)\n",
            "Requirement already satisfied: tzdata>=2022.7 in /usr/local/lib/python3.11/dist-packages (from pandas->netpyne) (2025.1)\n",
            "Collecting meautility (from lfpykit->netpyne)\n",
            "  Downloading MEAutility-1.5.2-py3-none-any.whl.metadata (1.6 kB)\n",
            "Requirement already satisfied: cycler>=0.10 in /usr/local/lib/python3.11/dist-packages (from matplotlib->netpyne) (0.12.1)\n",
            "Requirement already satisfied: fonttools>=4.22.0 in /usr/local/lib/python3.11/dist-packages (from matplotlib->netpyne) (4.56.0)\n",
            "Requirement already satisfied: kiwisolver>=1.3.1 in /usr/local/lib/python3.11/dist-packages (from matplotlib->netpyne) (1.4.8)\n",
            "Requirement already satisfied: pyparsing>=2.3.1 in /usr/local/lib/python3.11/dist-packages (from matplotlib->netpyne) (3.2.1)\n",
            "Requirement already satisfied: MarkupSafe>=2.0 in /usr/local/lib/python3.11/dist-packages (from Jinja2>=2.9->bokeh->netpyne) (3.0.2)\n",
            "Requirement already satisfied: six>=1.5 in /usr/local/lib/python3.11/dist-packages (from python-dateutil>=2.8.2->pandas->netpyne) (1.17.0)\n",
            "Downloading netpyne-1.0.7-py2.py3-none-any.whl (454 kB)\n",
            "\u001b[2K   \u001b[90m━━━━━━━━━━━━━━━━━━━━━━━━━━━━━━━━━━━━━━━━\u001b[0m \u001b[32m454.4/454.4 kB\u001b[0m \u001b[31m11.9 MB/s\u001b[0m eta \u001b[36m0:00:00\u001b[0m\n",
            "\u001b[?25hDownloading LFPykit-0.5.1-py3-none-any.whl (71 kB)\n",
            "\u001b[2K   \u001b[90m━━━━━━━━━━━━━━━━━━━━━━━━━━━━━━━━━━━━━━━━\u001b[0m \u001b[32m71.2/71.2 kB\u001b[0m \u001b[31m5.4 MB/s\u001b[0m eta \u001b[36m0:00:00\u001b[0m\n",
            "\u001b[?25hDownloading matplotlib_scalebar-0.9.0-py3-none-any.whl (16 kB)\n",
            "Downloading schema-0.7.7-py2.py3-none-any.whl (18 kB)\n",
            "Downloading MEAutility-1.5.2-py3-none-any.whl (38 kB)\n",
            "Installing collected packages: schema, meautility, matplotlib-scalebar, lfpykit, netpyne\n",
            "Successfully installed lfpykit-0.5.1 matplotlib-scalebar-0.9.0 meautility-1.5.2 netpyne-1.0.7 schema-0.7.7\n"
          ]
        }
      ]
    },
    {
      "cell_type": "code",
      "source": [
        "!nrnivmodl"
      ],
      "metadata": {
        "colab": {
          "base_uri": "https://localhost:8080/"
        },
        "id": "77kWxAHkjF26",
        "outputId": "e66880a6-200c-4295-a47b-4347c87f2d54"
      },
      "execution_count": null,
      "outputs": [
        {
          "output_type": "stream",
          "name": "stdout",
          "text": [
            "/usr/local/bin/nrnivmodl:10: DeprecationWarning: pkg_resources is deprecated as an API. See https://setuptools.pypa.io/en/latest/pkg_resources.html\n",
            "  from pkg_resources import working_set\n",
            "/content\n",
            "Mod files: \"./izhi2007b.mod\"\n",
            "\n",
            "Creating 'x86_64' directory for .o files.\n",
            "\n",
            " -> \u001b[32mCompiling\u001b[0m mod_func.cpp\n",
            " -> \u001b[32mNMODL\u001b[0m ../izhi2007b.mod\n",
            "Translating izhi2007b.mod into /content/x86_64/izhi2007b.c\n",
            "Notice: VERBATIM blocks are not thread safe\n",
            " -> \u001b[32mCompiling\u001b[0m izhi2007b.c\n",
            " => \u001b[32mLINKING\u001b[0m shared library ./libnrnmech.so\n",
            " => \u001b[32mLINKING\u001b[0m executable ./special LDFLAGS are:    -pthread\n",
            "Successfully created x86_64/special\n"
          ]
        }
      ]
    },
    {
      "cell_type": "code",
      "source": [
        "!python 1.py"
      ],
      "metadata": {
        "colab": {
          "base_uri": "https://localhost:8080/"
        },
        "id": "vbZAuUzDjIxJ",
        "outputId": "6d8d0118-0c4d-46cd-c2bd-248d6bbc56fc"
      },
      "execution_count": null,
      "outputs": [
        {
          "output_type": "stream",
          "name": "stdout",
          "text": [
            "Warning: no DISPLAY environment variable.\n",
            "--No graphics will be displayed.\n",
            "\n",
            "Start time:  2025-03-12 06:32:32.495825\n",
            "\n",
            "\n",
            "Creating network of 1 cell populations on 1 hosts...:   0% 0/1 [00:00<?, ?it/s]\u001b[A\n",
            "Creating network of 1 cell populations on 1 hosts...: 100% 1/1 [00:00<00:00, 31.08it/s]\n",
            "  Number of cells on node 0: 200 \n",
            "  Done; cell creation time = 0.04 s.\n",
            "Making connections...\n",
            "  Number of connections on node 0: 0 \n",
            "  Done; cell connection time = 0.00 s.\n",
            "Adding stims...\n",
            "  Number of stims on node 0: 200 \n",
            "  Done; cell stims creation time = 0.01 s.\n",
            "Recording 1 traces of 1 types on node 0\n",
            "\n",
            "Running simulation using NEURON for 1000.0 ms...\n",
            "  Done; run time = 1.16 s; real-time ratio: 0.87.\n",
            "\n",
            "Gathering data...\n",
            "  Done; gather time = 0.02 s.\n",
            "\n",
            "Analyzing...\n",
            "  Cells: 200\n",
            "  Connections: 0 (0.00 per cell)\n",
            "  Spikes: 75460 (377.30 Hz)\n",
            "  Simulated time: 1.0 s; 1 workers\n",
            "  Run time: 1.16 s\n",
            "Warning: data won't be saved. No output format specified (consider sim.cfg.savePickle, sim.cfg.saveJson etc.)\n",
            "Plotting recorded cell traces ... cell\n",
            "Preparing spike data...\n",
            "Plotting raster...\n",
            "Plotting 2D representation of network cell locations and connections...\n",
            "  Done; plotting time = 2.13 s\n",
            "\n",
            "Total time = 3.35 s\n"
          ]
        }
      ]
    },
    {
      "cell_type": "code",
      "source": [
        "!python 2.py"
      ],
      "metadata": {
        "colab": {
          "base_uri": "https://localhost:8080/"
        },
        "id": "WMRkxTEWjL3s",
        "outputId": "8dd986f9-48ff-437a-98dd-c108dd05dfdd"
      },
      "execution_count": null,
      "outputs": [
        {
          "output_type": "stream",
          "name": "stdout",
          "text": [
            "Warning: no DISPLAY environment variable.\n",
            "--No graphics will be displayed.\n",
            "\n",
            "Start time:  2025-03-12 12:15:41.377183\n",
            "\n",
            "\n",
            "Creating network of 1 cell populations on 1 hosts...:   0% 0/1 [00:00<?, ?it/s]\u001b[A\n",
            "Creating network of 1 cell populations on 1 hosts...: 100% 1/1 [00:00<00:00, 216.49it/s]\n",
            "  Number of cells on node 0: 20 \n",
            "  Done; cell creation time = 0.01 s.\n",
            "Making connections...\n",
            "  IZH->IZH: 100% 20/20 [00:00<00:00, 2869.96it/s]\n",
            "  Number of connections on node 0: 35 \n",
            "  Done; cell connection time = 0.01 s.\n",
            "Adding stims...\n",
            "  Number of stims on node 0: 20 \n",
            "  Done; cell stims creation time = 0.00 s.\n",
            "Recording 1 traces of 1 types on node 0\n",
            "\n",
            "Running simulation using NEURON for 1000.0 ms...\n",
            "  Done; run time = 0.21 s; real-time ratio: 4.80.\n",
            "\n",
            "Gathering data...\n",
            "  Done; gather time = 0.01 s.\n",
            "\n",
            "Analyzing...\n",
            "  Cells: 20\n",
            "  Connections: 55 (2.75 per cell)\n",
            "  Spikes: 1545 (77.25 Hz)\n",
            "  Simulated time: 1.0 s; 1 workers\n",
            "  Run time: 0.21 s\n",
            "Warning: data won't be saved. No output format specified (consider sim.cfg.savePickle, sim.cfg.saveJson etc.)\n",
            "Preparing spike data...\n",
            "Plotting raster...\n",
            "Plotting recorded cell traces ... cell\n",
            "Plotting 2D representation of network cell locations and connections...\n",
            "  Done; plotting time = 0.83 s\n",
            "\n",
            "Total time = 1.06 s\n"
          ]
        }
      ]
    },
    {
      "cell_type": "code",
      "source": [
        "!python 3.py"
      ],
      "metadata": {
        "colab": {
          "base_uri": "https://localhost:8080/"
        },
        "id": "RAqiZvbAjOZN",
        "outputId": "bd62670e-5ff2-484a-f42a-3b2021d7f7ce"
      },
      "execution_count": null,
      "outputs": [
        {
          "output_type": "stream",
          "name": "stdout",
          "text": [
            "Warning: no DISPLAY environment variable.\n",
            "--No graphics will be displayed.\n",
            "\n",
            "Start time:  2025-03-12 12:20:17.665129\n",
            "\n",
            "\n",
            "Creating network of 2 cell populations on 1 hosts...:   0% 0/2 [00:00<?, ?it/s]\u001b[A\n",
            "Creating network of 2 cell populations on 1 hosts...: 100% 2/2 [00:00<00:00, 288.71it/s]\n",
            "  Number of cells on node 0: 30 \n",
            "  Done; cell creation time = 0.01 s.\n",
            "Making connections...\n",
            "  IZH_exc->IZH_exc: 100% 20/20 [00:00<00:00, 2571.30it/s]\n",
            "  IZH_exc->IZH_inh: 100% 10/10 [00:00<00:00, 1684.26it/s]\n",
            "  IZH_inh->IZH_exc: 100% 20/20 [00:00<00:00, 2461.16it/s]\n",
            "  Number of connections on node 0: 141 \n",
            "  Done; cell connection time = 0.02 s.\n",
            "Adding stims...\n",
            "  Number of stims on node 0: 20 \n",
            "  Done; cell stims creation time = 0.00 s.\n",
            "Recording 1 traces of 1 types on node 0\n",
            "\n",
            "Running simulation using NEURON for 1000.0 ms...\n",
            "  Done; run time = 0.42 s; real-time ratio: 2.36.\n",
            "\n",
            "Gathering data...\n",
            "  Done; gather time = 0.01 s.\n",
            "\n",
            "Analyzing...\n",
            "  Cells: 30\n",
            "  Connections: 161 (5.37 per cell)\n",
            "  Spikes: 1074 (35.80 Hz)\n",
            "  Simulated time: 1.0 s; 1 workers\n",
            "  Run time: 0.42 s\n",
            "Warning: data won't be saved. No output format specified (consider sim.cfg.savePickle, sim.cfg.saveJson etc.)\n",
            "Preparing spike data...\n",
            "Plotting raster...\n",
            "Plotting recorded cell traces ... cell\n",
            "Plotting 2D representation of network cell locations and connections...\n",
            "  Done; plotting time = 0.93 s\n",
            "\n",
            "Total time = 1.41 s\n"
          ]
        }
      ]
    },
    {
      "cell_type": "code",
      "source": [
        "!python 4.py"
      ],
      "metadata": {
        "id": "UOSqxp_yjQdL",
        "colab": {
          "base_uri": "https://localhost:8080/"
        },
        "outputId": "1de3a2c8-eee3-4197-f965-e68dc9abd401"
      },
      "execution_count": null,
      "outputs": [
        {
          "output_type": "stream",
          "name": "stdout",
          "text": [
            "Warning: no DISPLAY environment variable.\n",
            "--No graphics will be displayed.\n",
            "\n",
            "Start time:  2025-03-12 06:10:50.205202\n",
            "\n",
            "\n",
            "Creating network of 2 cell populations on 1 hosts...:   0% 0/2 [00:00<?, ?it/s]\u001b[A\n",
            "Creating network of 2 cell populations on 1 hosts...: 100% 2/2 [00:00<00:00, 297.43it/s]\n",
            "  Number of cells on node 0: 30 \n",
            "  Done; cell creation time = 0.01 s.\n",
            "Making connections...\n",
            "  exc_exc: 100% 20/20 [00:00<00:00, 2734.85it/s]\n",
            "  exc_inh: 100% 10/10 [00:00<00:00, 1844.22it/s]\n",
            "  inh_exc: 100% 20/20 [00:00<00:00, 2623.41it/s]\n",
            "  Number of connections on node 0: 141 \n",
            "  Done; cell connection time = 0.02 s.\n",
            "Adding stims...\n",
            "  Number of stims on node 0: 20 \n",
            "  Done; cell stims creation time = 0.00 s.\n",
            "Recording 1 traces of 1 types on node 0\n",
            "\n",
            "Running simulation using NEURON for 1000.0 ms...\n",
            "  Done; run time = 0.42 s; real-time ratio: 2.38.\n",
            "\n",
            "Gathering data...\n",
            "  Done; gather time = 0.01 s.\n",
            "\n",
            "Analyzing...\n",
            "  Cells: 30\n",
            "  Connections: 161 (5.37 per cell)\n",
            "  Spikes: 1074 (35.80 Hz)\n",
            "  Simulated time: 1.0 s; 1 workers\n",
            "  Run time: 0.42 s\n",
            "Warning: data won't be saved. No output format specified (consider sim.cfg.savePickle, sim.cfg.saveJson etc.)\n",
            "\n",
            "There was an exception in plot2Dnet()\n",
            "Traceback (most recent call last):\n",
            "  File \"/usr/local/lib/python3.11/dist-packages/netpyne/analysis/utils.py\", line 75, in wrapper\n",
            "    return function(*args, **kwargs)\n",
            "           ^^^^^^^^^^^^^^^^^^^^^^^^^\n",
            "TypeError: plot2Dnet() got an unexpected keyword argument 'synMechColor'\n",
            "Preparing spike data...\n",
            "Plotting raster...\n",
            "Plotting recorded cell traces ... cell\n",
            "  Done; plotting time = 0.59 s\n",
            "\n",
            "Total time = 1.05 s\n"
          ]
        }
      ]
    },
    {
      "cell_type": "code",
      "source": [
        "!python single_izhikevich.py"
      ],
      "metadata": {
        "colab": {
          "base_uri": "https://localhost:8080/"
        },
        "id": "bk111X0H9sxI",
        "outputId": "00436b98-014a-4198-a7f8-0cfb9d556726"
      },
      "execution_count": null,
      "outputs": [
        {
          "output_type": "stream",
          "name": "stdout",
          "text": [
            "Warning: no DISPLAY environment variable.\n",
            "--No graphics will be displayed.\n",
            "\n",
            "Start time:  2025-03-12 14:37:00.770367\n",
            "\n",
            "\n",
            "Creating network of 1 cell populations on 1 hosts...:   0% 0/1 [00:00<?, ?it/s]\u001b[A\n",
            "Creating network of 1 cell populations on 1 hosts...: 100% 1/1 [00:00<00:00, 942.75it/s]\n",
            "  Number of cells on node 0: 1 \n",
            "  Done; cell creation time = 0.01 s.\n",
            "Making connections...\n",
            "  Number of connections on node 0: 0 \n",
            "  Done; cell connection time = 0.00 s.\n",
            "Adding stims...\n",
            "  Number of stims on node 0: 1 \n",
            "  Done; cell stims creation time = 0.00 s.\n",
            "Recording 1 traces of 1 types on node 0\n",
            "\n",
            "Running simulation using NEURON for 1000.0 ms...\n",
            "  Done; run time = 0.05 s; real-time ratio: 20.77.\n",
            "\n",
            "Gathering data...\n",
            "  Done; gather time = 0.00 s.\n",
            "\n",
            "Analyzing...\n",
            "  Cells: 1\n",
            "  Connections: 0 (0.00 per cell)\n",
            "  Spikes: 62 (62.00 Hz)\n",
            "  Simulated time: 1.0 s; 1 workers\n",
            "  Run time: 0.05 s\n",
            "Warning: data won't be saved. No output format specified (consider sim.cfg.savePickle, sim.cfg.saveJson etc.)\n",
            "Plotting recorded cell traces ... cell\n",
            "Preparing spike data...\n",
            "Plotting raster...\n",
            "Plotting 2D representation of network cell locations and connections...\n",
            "  Done; plotting time = 0.74 s\n",
            "\n",
            "Total time = 0.80 s\n"
          ]
        }
      ]
    },
    {
      "cell_type": "code",
      "source": [
        "!python izhikevich_network.py"
      ],
      "metadata": {
        "colab": {
          "base_uri": "https://localhost:8080/"
        },
        "id": "nEar_Ipwxsex",
        "outputId": "49f232ff-2c42-4cc4-8644-df60a35f511b"
      },
      "execution_count": null,
      "outputs": [
        {
          "output_type": "stream",
          "name": "stdout",
          "text": [
            "Warning: no DISPLAY environment variable.\n",
            "--No graphics will be displayed.\n",
            "\n",
            "Start time:  2025-03-12 14:39:33.543328\n",
            "\n",
            "\n",
            "Creating network of 1 cell populations on 1 hosts...:   0% 0/1 [00:00<?, ?it/s]\u001b[A\n",
            "Creating network of 1 cell populations on 1 hosts...: 100% 1/1 [00:00<00:00, 216.54it/s]\n",
            "  Number of cells on node 0: 20 \n",
            "  Done; cell creation time = 0.01 s.\n",
            "Making connections...\n",
            "  IZH->IZH: 100% 20/20 [00:00<00:00, 2695.74it/s]\n",
            "  Number of connections on node 0: 35 \n",
            "  Done; cell connection time = 0.01 s.\n",
            "Adding stims...\n",
            "  Number of stims on node 0: 20 \n",
            "  Done; cell stims creation time = 0.00 s.\n",
            "Recording 1 traces of 1 types on node 0\n",
            "\n",
            "Running simulation using NEURON for 1000.0 ms...\n",
            "  Done; run time = 0.20 s; real-time ratio: 4.91.\n",
            "\n",
            "Gathering data...\n",
            "  Done; gather time = 0.00 s.\n",
            "\n",
            "Analyzing...\n",
            "  Cells: 20\n",
            "  Connections: 55 (2.75 per cell)\n",
            "  Spikes: 1545 (77.25 Hz)\n",
            "  Simulated time: 1.0 s; 1 workers\n",
            "  Run time: 0.20 s\n",
            "Warning: data won't be saved. No output format specified (consider sim.cfg.savePickle, sim.cfg.saveJson etc.)\n",
            "Preparing spike data...\n",
            "Plotting raster...\n",
            "Plotting recorded cell traces ... cell\n",
            "Plotting 2D representation of network cell locations and connections...\n",
            "  Done; plotting time = 0.83 s\n",
            "\n",
            "Total time = 1.06 s\n"
          ]
        }
      ]
    },
    {
      "cell_type": "code",
      "source": [
        "!python izhikevich_inhibitory_network.py"
      ],
      "metadata": {
        "colab": {
          "base_uri": "https://localhost:8080/"
        },
        "id": "Cd1OiQ_Yy-AV",
        "outputId": "da55932e-70a1-4504-cb3a-13c7b8f95f83"
      },
      "execution_count": null,
      "outputs": [
        {
          "output_type": "stream",
          "name": "stdout",
          "text": [
            "Warning: no DISPLAY environment variable.\n",
            "--No graphics will be displayed.\n",
            "\n",
            "Start time:  2025-03-12 14:43:53.142677\n",
            "\n",
            "\n",
            "Creating network of 2 cell populations on 1 hosts...:   0% 0/2 [00:00<?, ?it/s]\u001b[A\n",
            "Creating network of 2 cell populations on 1 hosts...: 100% 2/2 [00:00<00:00, 304.01it/s]\n",
            "  Number of cells on node 0: 30 \n",
            "  Done; cell creation time = 0.01 s.\n",
            "Making connections...\n",
            "  IZH_exc->IZH_exc: 100% 20/20 [00:00<00:00, 2823.40it/s]\n",
            "  IZH_exc->IZH_inh: 100% 10/10 [00:00<00:00, 1794.35it/s]\n",
            "  IZH_inh->IZH_exc: 100% 20/20 [00:00<00:00, 2538.77it/s]\n",
            "  Number of connections on node 0: 141 \n",
            "  Done; cell connection time = 0.02 s.\n",
            "Adding stims...\n",
            "  Number of stims on node 0: 20 \n",
            "  Done; cell stims creation time = 0.00 s.\n",
            "Recording 1 traces of 1 types on node 0\n",
            "\n",
            "Running simulation using NEURON for 1000.0 ms...\n",
            "  Done; run time = 0.42 s; real-time ratio: 2.41.\n",
            "\n",
            "Gathering data...\n",
            "  Done; gather time = 0.01 s.\n",
            "\n",
            "Analyzing...\n",
            "  Cells: 30\n",
            "  Connections: 161 (5.37 per cell)\n",
            "  Spikes: 1074 (35.80 Hz)\n",
            "  Simulated time: 1.0 s; 1 workers\n",
            "  Run time: 0.42 s\n",
            "Warning: data won't be saved. No output format specified (consider sim.cfg.savePickle, sim.cfg.saveJson etc.)\n",
            "Preparing spike data...\n",
            "Plotting raster...\n",
            "Plotting recorded cell traces ... cell\n",
            "Plotting 2D representation of network cell locations and connections...\n",
            "  Done; plotting time = 0.97 s\n",
            "\n",
            "Total time = 1.43 s\n"
          ]
        }
      ]
    },
    {
      "cell_type": "code",
      "source": [],
      "metadata": {
        "id": "uzdYN71Uz9Xr"
      },
      "execution_count": null,
      "outputs": []
    }
  ]
}